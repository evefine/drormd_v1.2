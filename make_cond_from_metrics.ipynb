{
 "cells": [
  {
   "cell_type": "code",
   "execution_count": 9,
   "id": "f60ba59f-26c4-4229-989f-4a2f572cfc94",
   "metadata": {
    "tags": []
   },
   "outputs": [],
   "source": [
    "import re\n",
    "import itertools\n",
    "import sys\n",
    "import re\n",
    "from collections import OrderedDict  "
   ]
  },
  {
   "cell_type": "code",
   "execution_count": 10,
   "id": "4bb22d5e-41db-4d89-b098-d7124f053e60",
   "metadata": {
    "tags": []
   },
   "outputs": [],
   "source": [
    "restypes = ['A', 'C', 'D', 'E', 'F', 'G', 'H', 'I', 'K', 'L',\n",
    "            'M', 'N', 'P', 'Q', 'R', 'S', 'T', 'V', 'W', 'Y']\n",
    "\n",
    "nums = ['1', '2', '3', '4', '5', '6', '7', '8', '9']\n",
    "\n",
    "metrics_dir = sys.argv[1]\n",
    "\n",
    "def extract_unique_keys(nested, preserve_order=True):\n",
    "    \"\"\"Return all substrings inside {...} anywhere in *nested*.\"\"\"\n",
    "    \n",
    "    def walk(obj):\n",
    "        \"\"\"Yield every string found at any depth inside obj.\"\"\"\n",
    "        if isinstance(obj, str):\n",
    "            yield obj\n",
    "        elif isinstance(obj, dict):\n",
    "            for v in obj.values():\n",
    "                yield from walk(v)\n",
    "        elif isinstance(obj, (list, tuple, set)):\n",
    "            for item in obj:\n",
    "                yield from walk(item)\n",
    "        # ignore non-iterable, non-string leaf nodes (ints, floats, etc.)\n",
    "\n",
    "    # Collect every string in one pass, then run the regex once\n",
    "    all_text = \" \".join(walk(nested))\n",
    "    hits = re.findall(r\"\\{([^}]*)\\}\", all_text)\n",
    "\n",
    "    if preserve_order:\n",
    "        return list(OrderedDict.fromkeys(hits))  # de-duplicate, keep order\n",
    "    else:\n",
    "        return sorted(set(hits))     # Fast, but order not guaranteed\n",
    "\n",
    "    \n",
    "def get_helices(keys, TM=False):\n",
    "    helices_used = set()\n",
    "    \n",
    "    for key in keys:\n",
    "        if 'x' in key:\n",
    "            helix = key.split('x')[0]\n",
    "            if helix.isdigit():\n",
    "                    helices_used.add(int(helix))\n",
    "    \n",
    "        elif 'TM' == key[:2] or 'H' == key[0]:\n",
    "            if key[0] != 'H':\n",
    "                helices_used.add(int(key[2:]))\n",
    "            elif key[0] == 'H':\n",
    "                helices_used.add(int(key[1:]))\n",
    "\n",
    "    return helices_used\n",
    "\n",
    "\n",
    "def get_ref_numbers(helices_used):\n",
    "    # Prompt for segid\n",
    "    segid = input(\"\\n Enter the segid for the protein: \").strip()\n",
    "\n",
    "    # Prompt for reference residue numbers (.50) for each helix\n",
    "    helix_refs = {}\n",
    "    print('\\n')\n",
    "    for helix in sorted(helices_used):\n",
    "        ref_res = int(input(f\"Enter the residue number for {helix}.50: \"))\n",
    "        helix_refs[helix] = {'ref_res': ref_res, 'segid': segid}\n",
    "\n",
    "    return helix_refs, segid\n",
    "\n",
    "\n",
    "def process_0x00(keys, helix_refs, segid=False, ref=False):\n",
    "    dict_0x00 = {}\n",
    "    for key in keys:\n",
    "        helix, gpcrdb_pos = key.split('x')\n",
    "        if ref:\n",
    "            gpcrdb_pos = gpcrdb_pos[:-4]\n",
    "        if helix.isdigit():\n",
    "            helix_num = int(helix)\n",
    "            gpcrdb_pos = int(gpcrdb_pos)\n",
    "            offset = gpcrdb_pos - 50\n",
    "            ref_res = helix_refs[helix_num]['ref_res']\n",
    "            resid = ref_res + offset\n",
    "\n",
    "            if segid:\n",
    "                dict_0x00[key] = f\"protein and segid {segid} and resid {resid}\"\n",
    "            else:\n",
    "                dict_0x00[key] = f\"protein and resid {resid}\"\n",
    "    return dict_0x00\n",
    "\n",
    "\n",
    "def process_TMX(keys, helix_refs, segid=False, ref=False):\n",
    "    dict_TMX = {}\n",
    "\n",
    "    for key in keys_TM:\n",
    "        if key[0] == 'H':\n",
    "            helix_num = int(key[1:])\n",
    "        else:\n",
    "            helix_num = int(key[2:])\n",
    "\n",
    "        ref_res = helix_refs[helix_num]['ref_res']\n",
    "        segid = helix_refs[helix_num]['segid']\n",
    "\n",
    "        # Prompt for GPCRDB range\n",
    "        gpcrdb_range = input(f\"Enter the GPCRDB range for TM{helix_num} (e.g., 3.44-3.56): \").strip()\n",
    "        start_gpcrdb, end_gpcrdb = gpcrdb_range.split('-')\n",
    "        start_gpcrdb = int(start_gpcrdb.split('.')[1])\n",
    "        end_gpcrdb = int(end_gpcrdb.split('.')[1])\n",
    "\n",
    "        # Calculate residue range\n",
    "        start_res = ref_res + (start_gpcrdb - 50)\n",
    "        end_res = ref_res + (end_gpcrdb - 50)\n",
    "        if ref:\n",
    "            key += '_ref'\n",
    "        if segid:\n",
    "            dict_TMX[key] = f\"protein and segid {segid} and resid {start_res} to {end_res}\"\n",
    "        else:\n",
    "            dict_TMX[key] = f\"protein and resid {start_res} to {end_res}\"\n",
    "\n",
    "    return dict_TMX\n",
    "\n",
    "\n",
    "def process_X000(keys, segid=False):\n",
    "    dict_X000 = {}\n",
    "    if not keys:\n",
    "        return {}\n",
    "    for key in keys:\n",
    "        num = key[1:]\n",
    "        if segid:\n",
    "            dict_X000[key] = f\"protein and segid {segid} and resid {num}\"\n",
    "        else:\n",
    "            dict_X000[key] = f\"protein and resid {num}\"\n",
    "    return dict_X000\n",
    "\n",
    "                \n",
    "def process_BW(keys_0x00, keys_TM=[], ref=False):\n",
    "    # Identify the helices present\n",
    "    if not keys_0x00:\n",
    "        return {}\n",
    "\n",
    "    helices_used = get_helices(keys_0x00 + keys_TM)\n",
    "\n",
    "    helix_refs, segid = get_ref_numbers(helices_used)\n",
    "    \n",
    "    res_dict = {}\n",
    "    \n",
    "    res_dict = {**res_dict, **process_0x00(keys_0x00, helix_refs, segid, ref=ref)}\n",
    "    \n",
    "    if keys_TM:\n",
    "        res_dict = {**res_dict, **process_TMX(keys_TMX, helix_refs, segid, ref=ref)}\n",
    "\n",
    "    return res_dict, segid\n",
    "    \n",
    "    \n",
    "def make_cond_dict(metric_dict):\n",
    "    keys = extract_unique_keys(metric_dict)\n",
    "\n",
    "    keys_0x00 = []\n",
    "    keys_X000 = []\n",
    "    keys_TMX = []\n",
    "    keys_ref = []\n",
    "\n",
    "    for key in keys:\n",
    "        if 'x' in key and 'ref' not in key:\n",
    "            keys_0x00.append(key)\n",
    "        elif 'H8' in key:\n",
    "            keys_TMX.append(key)\n",
    "        elif 'ref' in key and 'selection' not in key:\n",
    "            keys_ref.append(key)\n",
    "        elif key[0] in restypes and key[1] in nums:\n",
    "            keys_X000.append(key)\n",
    "        elif 'TM' == key[:2] and key[2] in nums:\n",
    "            keys_TMX.append(key)\n",
    "        else:\n",
    "            print(f\"Couldn't process key {key}, add on your own\")\n",
    "    \n",
    "    cond_dict_BW, segid = process_BW(keys_0x00, keys_TM=keys_TMX)\n",
    "    cond_dict_X000 = process_X000(keys_X000, segid)\n",
    "    cond_dict_ref = {}\n",
    "    ref_same = ''\n",
    "    \n",
    "    if keys_ref:\n",
    "        ref_same = input(f\"\\nShould the reference selections be the same as the original? Y/N : \").strip()\n",
    "    \n",
    "    if ref_same == 'Y':\n",
    "        for key in list(cond_dict_BW.keys()):\n",
    "            cond_dict_ref[key + '_ref'] = cond_dict_BW[key]\n",
    "    elif ref_same == 'N':\n",
    "        cond_dict_ref, _ = process_BW(keys_ref, ref=True)\n",
    "    \n",
    "    total_dict = {**cond_dict_BW, **cond_dict_X000, **cond_dict_ref}\n",
    "    return total_dict\n",
    "            \n"
   ]
  },
  {
   "cell_type": "code",
   "execution_count": 14,
   "id": "65670ded-c86a-41b8-bb0f-bc0dbbb23108",
   "metadata": {
    "tags": []
   },
   "outputs": [
    {
     "name": "stdin",
     "output_type": "stream",
     "text": [
      "\n",
      " Enter the segid for the protein:  \n"
     ]
    },
    {
     "name": "stdout",
     "output_type": "stream",
     "text": [
      "\n",
      "\n"
     ]
    },
    {
     "name": "stdin",
     "output_type": "stream",
     "text": [
      "Enter the residue number for 1.50:  100\n",
      "Enter the residue number for 7.50:  700\n"
     ]
    },
    {
     "data": {
      "text/plain": [
       "{'7x53': 'protein and resid 703',\n",
       " '1x53': 'protein and resid 103',\n",
       " '7x56': 'protein and resid 706',\n",
       " '7x52': 'protein and resid 702',\n",
       " '7x43': 'protein and resid 693',\n",
       " 'D135': 'protein and resid 135',\n",
       " 'M108': 'protein and resid 108'}"
      ]
     },
     "execution_count": 14,
     "metadata": {},
     "output_type": "execute_result"
    }
   ],
   "source": [
    "metrics = {\n",
    "    'distances': {\n",
    "        # TM6 Intracellular Position\n",
    "        '7.53-1.53': ['{7x53} and name CA', '{1x53} and name CA'],\n",
    "        '7.56N-7.52O': ['{7x56} and name N', '{7x52} and name O'],\n",
    "        '7.43O-D135': ['{7x43} and name OH', '{D135} and name CA'],\n",
    "        'M108SD-D135': ['{M108} and name SD', '{D135} and name CA'],\n",
    "    },}\n",
    "\n",
    "make_cond_dict(metrics)"
   ]
  },
  {
   "cell_type": "code",
   "execution_count": 34,
   "id": "25b25be0-1a9e-4641-8d03-4efbed698973",
   "metadata": {
    "tags": []
   },
   "outputs": [
    {
     "data": {
      "text/plain": [
       "'thing'"
      ]
     },
     "execution_count": 34,
     "metadata": {},
     "output_type": "execute_result"
    }
   ],
   "source": [
    "test = 'thing_ref'\n",
    "\n",
    "test[:-4]"
   ]
  },
  {
   "cell_type": "code",
   "execution_count": null,
   "id": "16f6f648-0dec-4764-9a85-deb8ab672aa4",
   "metadata": {},
   "outputs": [],
   "source": []
  }
 ],
 "metadata": {
  "kernelspec": {
   "display_name": "Python 3 (ipykernel)",
   "language": "python",
   "name": "python3"
  },
  "language_info": {
   "codemirror_mode": {
    "name": "ipython",
    "version": 3
   },
   "file_extension": ".py",
   "mimetype": "text/x-python",
   "name": "python",
   "nbconvert_exporter": "python",
   "pygments_lexer": "ipython3",
   "version": "3.11.8"
  }
 },
 "nbformat": 4,
 "nbformat_minor": 5
}
